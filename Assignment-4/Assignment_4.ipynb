{
 "metadata": {
  "name": "",
  "signature": "sha256:34bc7032fb85f0b6d9ef9d56e681d7e766643a54e9d9d0649ef1fd8f058b3fa4"
 },
 "nbformat": 3,
 "nbformat_minor": 0,
 "worksheets": [
  {
   "cells": [
    {
     "cell_type": "heading",
     "level": 1,
     "metadata": {},
     "source": [
      "Assignment 4\n",
      "Debra Lewis\n",
      "COP 6930 (Web 2.0)"
     ]
    },
    {
     "cell_type": "heading",
     "level": 2,
     "metadata": {},
     "source": [
      "Example 3. Extracting hRecipe data from a web page"
     ]
    },
    {
     "cell_type": "markdown",
     "metadata": {},
     "source": [
      "Note: I'll be breaking this up into sections in order to better document what I'm doing; I've combined all the parts into a function at the end, so if you're just looking for a script to extract recipe information from a page, scroll down to the last code section."
     ]
    },
    {
     "cell_type": "markdown",
     "metadata": {},
     "source": [
      "###First, import the libraries necessary, request the URL, and use BeautifulSoup to get all the information from the page:"
     ]
    },
    {
     "cell_type": "code",
     "collapsed": false,
     "input": [
      "import sys\n",
      "import requests\n",
      "from bs4 import BeautifulSoup\n",
      "\n",
      "#First, pass in a URL containing a recipe (with the scheme.org's Recipe format)\n",
      "\n",
      "URL = 'http://britishfood.about.com/od/recipeindex/r/applepie.htm'\n",
      "\n",
      "# instead of microformat's hrecipe, this is using schema's Recipe\n",
      "# See https://schema.org/Recipe\n",
      "\n",
      "#now, make a request for the url, and run it through BeautifulSoup\n",
      "\n",
      "req = requests.get(URL)\n",
      "    \n",
      "soup = BeautifulSoup(req.text)\n",
      "\n",
      "if soup:\n",
      "    print \"text from webpage at URL retrieved\"\n",
      "else:\n",
      "    print \"Something went wrong\""
     ],
     "language": "python",
     "metadata": {},
     "outputs": [
      {
       "output_type": "stream",
       "stream": "stdout",
       "text": [
        "text from webpage at URL retrieved\n"
       ]
      }
     ],
     "prompt_number": 54
    },
    {
     "cell_type": "markdown",
     "metadata": {},
     "source": [
      "###Next, check if it was part of schema.org's Recipe format:"
     ]
    },
    {
     "cell_type": "code",
     "collapsed": false,
     "input": [
      "recipe = soup.find(itemtype=\"http://schema.org/Recipe\")\n",
      "if recipe and len(recipe) > 1:\n",
      "    print \"Recipe found\"\n",
      "else:\n",
      "    print \"Recipe not found\""
     ],
     "language": "python",
     "metadata": {},
     "outputs": [
      {
       "output_type": "stream",
       "stream": "stdout",
       "text": [
        "Recipe found\n"
       ]
      }
     ],
     "prompt_number": 55
    },
    {
     "cell_type": "markdown",
     "metadata": {},
     "source": [
      "Here, I'm setting up a function to easily extract information from a particular tag.  First it looks for a <code>content</code> attribute, and extracts information stored in that attribute; if the tag doesn't have a <code>content</code> attribute (or the <code>content</code> attribute is empty), then the function looks for any text; if the tag has neither a <code>content</code> attribute nor any text, then it returns <code>\"None\"</code> as the tag's info."
     ]
    },
    {
     "cell_type": "code",
     "collapsed": false,
     "input": [
      "# This function is available in the file \"GetRecipeFromURL.py\" \n",
      "# in the \"resources\" folder off of the directory that contains this notebook.\n",
      "import bs4.element as BSElementType\n",
      "\n",
      "def getTagInfo(tag):\n",
      "    #make sure it's the right kind of input, or else you'll get all kinds of weird errors.\n",
      "    if type(tag) is not BSElementType.Tag:\n",
      "         return \"INVALID INPUT!\"\n",
      "    \n",
      "    tagInfo = \"\"\n",
      "    \n",
      "    # See if the input tag has a 'content' attribute.\n",
      "    # If it does, use whatever text is stored in that attribute as the name of the recipe\n",
      "    if tag.has_attr('content'):\n",
      "        tagInfo = tag.get('content')\n",
      "        \n",
      "    # See if fn is empty (there was no \"content\" attribute, or it was empty)\n",
      "    if not tagInfo:\n",
      "        # Grab whatever text is in the tag\n",
      "        # For example, for <p>blah</p>, it would grab \"blah\"\n",
      "        tagInfo = tag.get_text()\n",
      "        \n",
      "        #if function STILL hasn't gotten any info by this point, then just set it to \"None\"\n",
      "        if not tagInfo:\n",
      "            tagInfo = \"None\"\n",
      "        \n",
      "    return tagInfo.strip()"
     ],
     "language": "python",
     "metadata": {},
     "outputs": [],
     "prompt_number": 58
    },
    {
     "cell_type": "markdown",
     "metadata": {},
     "source": [
      "###Get the name of the recipe/food:"
     ]
    },
    {
     "cell_type": "code",
     "collapsed": false,
     "input": [
      "# foodLine = recipe.find(itemprop=\"name\")\n",
      "\n",
      "fn = getTagInfo(recipe.find(itemprop=\"name\"))\n",
      "\n",
      "print fn"
     ],
     "language": "python",
     "metadata": {},
     "outputs": [
      {
       "output_type": "stream",
       "stream": "stdout",
       "text": [
        "Home-Made British Apple Pie\n"
       ]
      }
     ],
     "prompt_number": 59
    },
    {
     "cell_type": "markdown",
     "metadata": {},
     "source": [
      "###Next, look for the author's name:"
     ]
    },
    {
     "cell_type": "code",
     "collapsed": false,
     "input": [
      "#find the \"author\" item\n",
      "foodByline = recipe.find(itemprop=\"author\")\n",
      "\n",
      "#Find the \"name\" child of the \"author\" tag\n",
      "foodAuthor = foodByline.find(itemprop=\"name\")\n",
      "\n",
      "#extract the author's name:\n",
      "author = getTagInfo(foodAuthor)\n",
      "\n",
      "print author"
     ],
     "language": "python",
     "metadata": {},
     "outputs": [
      {
       "output_type": "stream",
       "stream": "stdout",
       "text": [
        "By Elaine Lemm\n"
       ]
      }
     ],
     "prompt_number": 60
    },
    {
     "cell_type": "markdown",
     "metadata": {},
     "source": [
      "###Next, get the ingredient information; store it in a list."
     ]
    },
    {
     "cell_type": "code",
     "collapsed": false,
     "input": [
      "import json\n",
      "\n",
      "ingredients = []\n",
      "\n",
      "ingredients = [i.string \n",
      "    for i in recipe.findAll(itemprop=\"ingredients\") \n",
      "    if i.string is not None] #Ingredients\n",
      "\n",
      "print json.dumps(ingredients,indent=4)"
     ],
     "language": "python",
     "metadata": {},
     "outputs": [
      {
       "output_type": "stream",
       "stream": "stdout",
       "text": [
        "[\n",
        "    \"Pastry\", \n",
        "    \"200g / 1 2/3 cups all purpose/plain flour\", \n",
        "    \"pinch of salt\", \n",
        "    \"110g / 4 oz, cubed butter or an equal mix of butter and lard\", \n",
        "    \"2-3 tbsp cold water\", \n",
        "    \"Filling\", \n",
        "    \"700g / 1\\u00a0\\u00bd lb cooking apples, peeled, cored and quartered\", \n",
        "    \"2 tbsp lemon juice\", \n",
        "    \"\\u00a0110g / 4 oz sugar\", \n",
        "    \"4 - 6 tbsp cold water\", \n",
        "    \"1 level tsp ground cinnamon (optional)\", \n",
        "    \"25g / 1 oz\\u00a0 butter\", \n",
        "    \"Milk to glaze\"\n",
        "]\n"
       ]
      }
     ],
     "prompt_number": 61
    },
    {
     "cell_type": "markdown",
     "metadata": {},
     "source": [
      "###Lastly, get the instructions from the recipe:"
     ]
    },
    {
     "cell_type": "code",
     "collapsed": false,
     "input": [
      "instructions = []  #instructions\n",
      "for i in recipe.find(itemprop=\"recipeInstructions\"):\n",
      "    if type(i) == BSElementType.Tag:\n",
      "        s = ''.join(i.findAll(text=True)).strip()\n",
      "    elif type(i) == BSElementType.NavigableString:\n",
      "        s = i.string.strip()\n",
      "    else:\n",
      "        continue\n",
      "\n",
      "    if s != '': \n",
      "        instructions += [s]\n",
      "        \n",
      "print json.dumps(instructions,indent=4)"
     ],
     "language": "python",
     "metadata": {},
     "outputs": [
      {
       "output_type": "stream",
       "stream": "stdout",
       "text": [
        "[\n",
        "    \"Preparation\", \n",
        "    \"Method\", \n",
        "    \"Place the flour, butter and salt into a large clean bowl.Rub the butter into the flour with your fingertips until the mixture resembles fine breadcrumbs, working as quickly as possible to prevent the dough becoming warm. Add the water to the mixture and using a cold knife stir until the dough binds together, add more cold water a teaspoon at a time if the mixture is too dry.Wrap the dough in Saran wrap/Clingfilm and chill for a minimum of 15 minutes, up to 30 minutes.\", \n",
        "    \"The dough can also be made in a food processor by mixing the flour, butter and salt in the bowl of the processor on a pulse setting. When the mixture resembles breadcrumbs, add the water, slowly, through the funnel until the dough comes together in a ball. Wrap in Saran wrap/ Clingfilm and chill as above.\", \n",
        "    \"Heat the oven to 220\\u00b0C/425\\u00b0F/gas 7.\", \n",
        "    \"Meanwhile simmer the apples with the lemon juice and water in a large pan until soft. Add the sugar and cinnamon to the cooked apples. Remove from the heat and add the butter and leave to cool.Roll out half the pastry and line a 13cm / 7\\\" pie dish. Put the cooled, cooked apple mixture into the pastry case.Roll out the remaining pastry to make a lid for the pie. Damp the edges of the pastry in the dish with a little cold water, cover with the lid,\\u00a0 press the edges firmly together and crimp to decorate.Brush the top of the pie with milk and bake at the top of a hot oven for 20 - 25 minutes.Serve hot or cold with cream, ice cream or custard sauce.\"\n",
        "]\n"
       ]
      }
     ],
     "prompt_number": 63
    },
    {
     "cell_type": "markdown",
     "metadata": {},
     "source": [
      "###Finally, put it all together:<br/>\n",
      "Note: I'm removing all the debugging statements, e.g. \"Recipe found\"<br/>\n",
      "I'm also turning it into a function, so that it could easily be used to parse a recipe from any website.<br/>\n",
      "If you want to actually use this code, this is the section you want to copy (or use the GetRecipeFromURL.py file, in the \"resources\" folder off of the directory that contains this notebook)."
     ]
    },
    {
     "cell_type": "code",
     "collapsed": false,
     "input": [
      "# Note: This function is available in the file \"GetRecipeFromURL.py\" \n",
      "# in the \"resources\" folder off of the directory that contains this notebook.\n",
      "\n",
      "import sys\n",
      "import requests\n",
      "import json\n",
      "from bs4 import BeautifulSoup\n",
      "import re\n",
      "\n",
      "# Pass in a URL containing schema.org's recipe...\n",
      "\n",
      "URL = 'http://britishfood.about.com/od/recipeindex/r/applepie.htm'\n",
      "\n",
      "# instead of microformat's hrecipe, this is using schema's Recipe\n",
      "# See https://schema.org/Recipe\n",
      "\n",
      "\n",
      "def parse_recipe(url):\n",
      "    req = requests.get(URL)\n",
      "    \n",
      "    soup = BeautifulSoup(req.text)\n",
      "    \n",
      "    recipe = soup.find(itemtype=\"http://schema.org/Recipe\")\n",
      "\n",
      "    if recipe and len(recipe) > 1:      \n",
      "        #Get recipe name:\n",
      "        fn = getTagInfo(recipe.find(itemprop=\"name\"))\n",
      "        \n",
      "        #Get author info:\n",
      "        foodByline = recipe.find(itemprop=\"author\")\n",
      "        foodAuthor = foodByline.find(itemprop=\"name\")\n",
      "        author = getTagInfo(foodAuthor)\n",
      "\n",
      "        #Get ingredient information:\n",
      "        ingredients = [i.string \n",
      "                            for i in recipe.findAll(itemprop=\"ingredients\") \n",
      "                                if i.string is not None] \n",
      "\n",
      "        instructions = []  #instructions\n",
      "        for i in recipe.find(itemprop=\"recipeInstructions\"):\n",
      "            if type(i) == BSElementType.Tag:\n",
      "                s = ''.join(i.findAll(text=True)).strip()\n",
      "            elif type(i) == BSElementType.NavigableString:\n",
      "                s = i.string.strip()\n",
      "            else:\n",
      "                continue\n",
      "\n",
      "            if s != '': \n",
      "                instructions += [s]\n",
      "\n",
      "        return {\n",
      "            'name': fn,\n",
      "            'author': author,\n",
      "            'ingredients': ingredients, \n",
      "            'instructions': instructions,\n",
      "            }\n",
      "    else:\n",
      "        return {}\n",
      "\n",
      "\n",
      "recipe = parse_recipe(URL)\n",
      "print json.dumps(recipe, indent=4)"
     ],
     "language": "python",
     "metadata": {},
     "outputs": [
      {
       "output_type": "stream",
       "stream": "stdout",
       "text": [
        "{\n",
        "    \"instructions\": [\n",
        "        \"Preparation\", \n",
        "        \"Method\", \n",
        "        \"Place the flour, butter and salt into a large clean bowl.Rub the butter into the flour with your fingertips until the mixture resembles fine breadcrumbs, working as quickly as possible to prevent the dough becoming warm. Add the water to the mixture and using a cold knife stir until the dough binds together, add more cold water a teaspoon at a time if the mixture is too dry.Wrap the dough in Saran wrap/Clingfilm and chill for a minimum of 15 minutes, up to 30 minutes.\", \n",
        "        \"The dough can also be made in a food processor by mixing the flour, butter and salt in the bowl of the processor on a pulse setting. When the mixture resembles breadcrumbs, add the water, slowly, through the funnel until the dough comes together in a ball. Wrap in Saran wrap/ Clingfilm and chill as above.\", \n",
        "        \"Heat the oven to 220\\u00b0C/425\\u00b0F/gas 7.\", \n",
        "        \"Meanwhile simmer the apples with the lemon juice and water in a large pan until soft. Add the sugar and cinnamon to the cooked apples. Remove from the heat and add the butter and leave to cool.Roll out half the pastry and line a 13cm / 7\\\" pie dish. Put the cooled, cooked apple mixture into the pastry case.Roll out the remaining pastry to make a lid for the pie. Damp the edges of the pastry in the dish with a little cold water, cover with the lid,\\u00a0 press the edges firmly together and crimp to decorate.Brush the top of the pie with milk and bake at the top of a hot oven for 20 - 25 minutes.Serve hot or cold with cream, ice cream or custard sauce.\"\n",
        "    ], \n",
        "    \"ingredients\": [\n",
        "        \"Pastry\", \n",
        "        \"200g / 1 2/3 cups all purpose/plain flour\", \n",
        "        \"pinch of salt\", \n",
        "        \"110g / 4 oz, cubed butter or an equal mix of butter and lard\", \n",
        "        \"2-3 tbsp cold water\", \n",
        "        \"Filling\", \n",
        "        \"700g / 1\\u00a0\\u00bd lb cooking apples, peeled, cored and quartered\", \n",
        "        \"2 tbsp lemon juice\", \n",
        "        \"\\u00a0110g / 4 oz sugar\", \n",
        "        \"4 - 6 tbsp cold water\", \n",
        "        \"1 level tsp ground cinnamon (optional)\", \n",
        "        \"25g / 1 oz\\u00a0 butter\", \n",
        "        \"Milk to glaze\"\n",
        "    ], \n",
        "    \"name\": \"Home-Made British Apple Pie\", \n",
        "    \"author\": \"By Elaine Lemm\"\n",
        "}\n"
       ]
      }
     ],
     "prompt_number": 64
    },
    {
     "cell_type": "code",
     "collapsed": false,
     "input": [],
     "language": "python",
     "metadata": {},
     "outputs": []
    }
   ],
   "metadata": {}
  }
 ]
}