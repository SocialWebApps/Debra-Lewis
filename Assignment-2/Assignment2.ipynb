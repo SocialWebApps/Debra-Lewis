{
 "metadata": {
  "name": "",
  "signature": "sha256:6c2fd257252e320b897158257e2b7c491f37bbe92961a99429208d310bc48352"
 },
 "nbformat": 3,
 "nbformat_minor": 0,
 "worksheets": [
  {
   "cells": [
    {
     "cell_type": "markdown",
     "metadata": {},
     "source": [
      "<h2 style=\"padding:0; margin:0; line-height:125%\">COP 6930: Web 2.0</h2>\n",
      "<h2 style=\"padding:0; margin:0; line-height:125%\">Assignment 2</h2>\n",
      "<h2 style=\"padding:0; margin:0; line-height:125%\">Debra Lewis</h2>"
     ]
    },
    {
     "cell_type": "markdown",
     "metadata": {},
     "source": [
      "###<u>OPTION 1 (Analyze data from bitLy files)</u>"
     ]
    },
    {
     "cell_type": "markdown",
     "metadata": {},
     "source": [
      "Import the modules we will be using: <code>simplejson</code> for pretty-printing of record information; <code>re</code> (regular expressions) for extracting the longitude and latitude information from the records; <code>HTML</code> from <code>IPython.display</code> in order to use an inner frame (<code>iframe</code>) to display the finished map inside this notebook; <code>pygmaps</code> in order to create the map and add coordinates to it; <code>random</code> in order to randomly select a color for the flags on the map."
     ]
    },
    {
     "cell_type": "code",
     "collapsed": false,
     "input": [
      "import json #pip install simplejson\n",
      "import re\n",
      "from IPython.display import HTML\n",
      "import pygmaps #pip install pygmaps\n",
      "import random"
     ],
     "language": "python",
     "metadata": {},
     "outputs": []
    },
    {
     "cell_type": "markdown",
     "metadata": {},
     "source": [
      "The first step is getting the pathways to the files containing the bitLy data.  All the files are stored in the folder <code>resources</code> which is in the <code>ipynb</code> directory."
     ]
    },
    {
     "cell_type": "code",
     "collapsed": false,
     "input": [
      "path = \"resources\"\n",
      "\n",
      "filename1 = \"data1.txt\"\n",
      "pathname1 = path + \"\\\\\" + filename1\n",
      "\n",
      "filename2 = \"data2.txt\"\n",
      "pathname2 = path + \"\\\\\" + filename2\n",
      "\n",
      "filename3 = \"data3.txt\"\n",
      "pathname3 = path + \"\\\\\" + filename3\n",
      "\n",
      "filename4 = \"data4.txt\"\n",
      "pathname4 = path + \"\\\\\" + filename4\n",
      "\n",
      "filename5 = \"data5.txt\"\n",
      "pathname5 = path + \"\\\\\" + filename5"
     ],
     "language": "python",
     "metadata": {},
     "outputs": []
    },
    {
     "cell_type": "markdown",
     "metadata": {},
     "source": [
      "<b>Getting the information from the file</b><br/>\n",
      "To start, open up the first file and read the lines from it.  Create a new list, <code>records</code>, and set <code>records</code> to hold the lines from the first file.  When finished, close the file."
     ]
    },
    {
     "cell_type": "code",
     "collapsed": false,
     "input": [
      "file1 = open(pathname1,'r')    # open the file in read-only mode\n",
      "file1.readline()\n",
      "records = [json.loads(line) for line in file1]\n",
      "file1.close()\n",
      "print \"Number of records after reading from file 1: \" + str(len(records))"
     ],
     "language": "python",
     "metadata": {},
     "outputs": []
    },
    {
     "cell_type": "markdown",
     "metadata": {},
     "source": [
      "Next, open the second file and read the lines from it.  Append each line in the file to the <code>records</code> list, so that <code>records</code> now contains every line from the first file and every line from the second one."
     ]
    },
    {
     "cell_type": "code",
     "collapsed": false,
     "input": [
      "file2 = open(pathname2,'r')    # open the file in read-only mode\n",
      "file2.readline()\n",
      "for line in file2:\n",
      "    records.append(json.loads(line))\n",
      "file2.close()\n",
      "print \"Number of records after reading from file 2: \" + str(len(records))"
     ],
     "language": "python",
     "metadata": {},
     "outputs": []
    },
    {
     "cell_type": "markdown",
     "metadata": {},
     "source": [
      "Repeat for the next three files."
     ]
    },
    {
     "cell_type": "code",
     "collapsed": false,
     "input": [
      "file3 = open(pathname3,'r')    # open the file in read-only mode\n",
      "file3.readline()\n",
      "for line in file3:\n",
      "    records.append(json.loads(line))\n",
      "file3.close()\n",
      "print \"Number of records after reading from file 3: \" + str(len(records))\n",
      "\n",
      "file4 = open(pathname4,'r')    # open the file in read-only mode\n",
      "file4.readline()\n",
      "for line in file4:\n",
      "    records.append(json.loads(line))\n",
      "file4.close()\n",
      "print \"Number of records after reading from file 4: \" + str(len(records))\n",
      "\n",
      "file5 = open(pathname5,'r')    # open the file in read-only mode\n",
      "file5.readline()\n",
      "for line in file5:\n",
      "    records.append(json.loads(line))\n",
      "file5.close()\n",
      "print \"Number of records after reading from file 5: \" + str(len(records))"
     ],
     "language": "python",
     "metadata": {},
     "outputs": []
    },
    {
     "cell_type": "markdown",
     "metadata": {},
     "source": [
      "Create a regular expression pattern to extract only the longitude and latitude information (separated by a comma and a space), without extra characters:"
     ]
    },
    {
     "cell_type": "code",
     "collapsed": false,
     "input": [
      "regex = re.compile(\tr\"\"\" \n",
      "\t\t\t\\'ll\\':\\ \\[\n",
      "\t\t\t(\t#start first group to capture\n",
      "                        -?  #possible negative\n",
      "                        \\d* #some numbers\n",
      "                        \\.  #the period\n",
      "                        \\d* #more numbers\n",
      "                        )   #end of first capture group\n",
      "                        ,\\  #comma and space that separate coord halves\n",
      "                        (   #start of second capture group\n",
      "                        -?  #optional negative sign\n",
      "                        \\d* #some numbers\n",
      "                        \\.  #the period\n",
      "                        \\d* #more numbers                        \n",
      "                        )   #end of second capture group\n",
      "                        \\]\n",
      "                   \t\"\"\",re.VERBOSE)"
     ],
     "language": "python",
     "metadata": {},
     "outputs": []
    },
    {
     "cell_type": "markdown",
     "metadata": {},
     "source": [
      "Now, extract the longitude and latitude coordinates from the records.<br/>\n",
      "First, create an empty list, <code>coordinates</code> to store the information."
     ]
    },
    {
     "cell_type": "code",
     "collapsed": false,
     "input": [
      "coordinates = []"
     ],
     "language": "python",
     "metadata": {},
     "outputs": []
    },
    {
     "cell_type": "markdown",
     "metadata": {},
     "source": [
      "Each longitude/latitude pair will be stored as a list '<code>[lat, long]</code>' (without quotes or braces), where <code>long</code> is the longitudinal coordinate and <code>lat</code> is the latitudinal coordinate (So coordinates ends up being a list of lists)<br/>\n",
      "Find all matches to the regular expression pattern specified above, and add them to the <code>coordinates</code> list:"
     ]
    },
    {
     "cell_type": "code",
     "collapsed": false,
     "input": [
      "for rec in records:\n",
      "    match = re.search(regex,str(rec))\n",
      "    if match:\n",
      "        coordinates.append([float(match.group(1)),float(match.group(2))])"
     ],
     "language": "python",
     "metadata": {},
     "outputs": []
    },
    {
     "cell_type": "markdown",
     "metadata": {},
     "source": [
      "Print out a sample coordinate (to see what they look like):"
     ]
    },
    {
     "cell_type": "code",
     "collapsed": false,
     "input": [
      "print coordinates[0]"
     ],
     "language": "python",
     "metadata": {},
     "outputs": []
    },
    {
     "cell_type": "markdown",
     "metadata": {},
     "source": [
      "<b>Done extracting coordinate information from files</b><br/>\n",
      "Now the coordinates list contains the coordinates for all records that contained an <code>'ll'</code> field.<br/>\n",
      "Note: It is not necessary for every record to contain that field, this will work regardless.<br/>\n",
      "<hr style=\"color:black; border: 0; border-top:1px solid black; border-bottom: 1px solid black;\"/>\n",
      "<b>Turning that information into a map</b><br/>\n",
      "Next we want to plot this coordinates on a map.<br/>\n",
      "Create a new maps object <code>mymap</code> using the pygmaps module.  Center it at 41.850033,-87.6500523 (over Chicago) and set it to a default zoom of 3 to give a decent window.</br/>\n",
      "Also create an array to hold the hex values for several colors."
     ]
    },
    {
     "cell_type": "code",
     "collapsed": false,
     "input": [
      "mymap = pygmaps.maps(41.850033, -87.6500523,3)\n",
      "\n",
      "colors = ['#008000',\n",
      "          '#FFFF00',\n",
      "          '#FF0000',\n",
      "          '#0000FF']"
     ],
     "language": "python",
     "metadata": {},
     "outputs": []
    },
    {
     "cell_type": "markdown",
     "metadata": {},
     "source": [
      "Add the coordinates of each point to the map.<br/>\n",
      "I'm randomizing the color for each point so that they are easier to distinguish if there's a large cluster of points close together."
     ]
    },
    {
     "cell_type": "code",
     "collapsed": false,
     "input": [
      "for pair in coordinates:\n",
      "    mymap.addpoint(pair[0],pair[1],random.choice(colors))"
     ],
     "language": "python",
     "metadata": {},
     "outputs": []
    },
    {
     "cell_type": "markdown",
     "metadata": {},
     "source": [
      "Next, create the map (resulting html map is stored in the resources directory)."
     ]
    },
    {
     "cell_type": "code",
     "collapsed": false,
     "input": [
      "mymap.draw('resources\\mymap.html')"
     ],
     "language": "python",
     "metadata": {},
     "outputs": []
    },
    {
     "cell_type": "markdown",
     "metadata": {},
     "source": [
      "Finally, load the newly created map into a frame in this notebook."
     ]
    },
    {
     "cell_type": "code",
     "collapsed": false,
     "input": [
      "HTML('<iframe src=\"resources//mymap.html\" height=500 width=750></iframe>')"
     ],
     "language": "python",
     "metadata": {},
     "outputs": []
    }
   ],
   "metadata": {}
  }
 ]
}