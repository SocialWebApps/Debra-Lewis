{
 "metadata": {
  "name": "",
  "signature": "sha256:f43e47d3ade75590aeebf60ff2f226fbfc1f2998612cf8f2d7d41272928cf355"
 },
 "nbformat": 3,
 "nbformat_minor": 0,
 "worksheets": [
  {
   "cells": [
    {
     "cell_type": "markdown",
     "metadata": {},
     "source": [
      "<h2 style=\"padding:0; margin:0; line-height:125%\">COP 6930: Web 2.0</h2>\n",
      "<h2 style=\"padding:0; margin:0; line-height:125%\">Midterm (Test 1)</h2>\n",
      "<h2 style=\"padding:0; margin:0; line-height:125%\">Debra Lewis</h2>"
     ]
    },
    {
     "cell_type": "markdown",
     "metadata": {},
     "source": [
      "For my midterm, I will be gathering data from bitLy data recording the shortenings of government websites (from data downloaded from http://1usagov.measuredvoice.com/2013/ - I am using the data from May 17, 2013).  I will extract the most popular URLs from that data and then I will search twitter for tweets with those most popular URLs."
     ]
    },
    {
     "cell_type": "markdown",
     "metadata": {},
     "source": [
      "The first step is getting the pathways to the files containing the bitLy data.  All the files are stored in the folder <code>resources</code> which is in the <code>ipynb</code> directory. There are 25 files of data from May 17, 2013 (I changed their names to <code>data1.txt</code>, <code>data2.txt</code>, etc), so I used a <code>for</code> loop to open each of the files and add their contents to the records list.  Some of the files are empty, so they don't add any records to the list."
     ]
    },
    {
     "cell_type": "code",
     "collapsed": false,
     "input": [
      "path = \"resources\"\n",
      "\n",
      "records = []\n",
      "\n",
      "for i in range(1,26):\n",
      "    file = open(path + '\\\\data' + str(i) + '.txt','r')\n",
      "    file.readline()\n",
      "    for line in file:\n",
      "        records.append(line)\n",
      "    file.close()\n",
      "    print \"Number of records after file\", i, \":\", len(records)"
     ],
     "language": "python",
     "metadata": {},
     "outputs": [
      {
       "output_type": "stream",
       "stream": "stdout",
       "text": [
        "Number of records after file 1 : 9223\n",
        "Number of records after file 2 : 16913\n",
        "Number of records after file 3 : 21852\n",
        "Number of records after file 4 : 26495\n",
        "Number of records after file 5 : 30453\n",
        "Number of records after file"
       ]
      },
      {
       "output_type": "stream",
       "stream": "stdout",
       "text": [
        " 6 : 40778\n",
        "Number of records after file 7 : 52949\n",
        "Number of records after file 8 : 65177\n",
        "Number of records after file"
       ]
      },
      {
       "output_type": "stream",
       "stream": "stdout",
       "text": [
        " 9 : 80084\n",
        "Number of records after file 10 : 90916\n",
        "Number of records after file 11 : 99701\n",
        "Number of records after file"
       ]
      },
      {
       "output_type": "stream",
       "stream": "stdout",
       "text": [
        " 12 : 106998\n",
        "Number of records after file 13 : 108893\n",
        "Number of records after file 14 : 112613\n",
        "Number of records after file 15 : 115844\n",
        "Number of records after file 16 : 118912\n",
        "Number of records after file 17 : 122513\n",
        "Number of records after file 18 : 125935\n",
        "Number of records after file"
       ]
      },
      {
       "output_type": "stream",
       "stream": "stdout",
       "text": [
        " 19 : 130310\n",
        "Number of records after file 20 : 134885\n",
        "Number of records after file 21 : 140200\n",
        "Number of records after file 22 : 144581\n",
        "Number of records after file 23 : 144581\n",
        "Number of records after file 24 : 144581\n",
        "Number of records after file 25 : 147807\n"
       ]
      }
     ],
     "prompt_number": 61
    },
    {
     "cell_type": "markdown",
     "metadata": {},
     "source": [
      "Create a regular expression pattern to extract only the url information, without extra characters.<br/>\n",
      "In order to use regular expressions, I'm importing the regular expressions module, which is <code>re</code>."
     ]
    },
    {
     "cell_type": "code",
     "collapsed": false,
     "input": [
      "import re\n",
      "\n",
      "#search for 1.usa.gov in the hh field\n",
      "regex1 = re.compile('\\\"hh\\\": \\\"1\\.usa\\.gov\\\"')\n",
      "\n",
      "#regex string to grab the url\n",
      "regex2 = re.compile('\\\"u\\\": \\\"(.*?)\\\",')\n",
      "\n",
      "regex = re.compile( r\"\"\"\n",
      "                    \\\"hh\\\":\\ \\\"1\\.usa\\.gov\\\"\n",
      "                    .*?\n",
      "                    \\\"u\\\":\\ \\\"(.*?)\\\"\n",
      "                    \"\"\",re.VERBOSE)\n",
      "\n",
      "\n",
      "urls = []\n",
      "mnum = 0\n",
      "#the (str(m[0])).replace(\"\\/\",\"\\\\\") is to replace all \\/ combinations with a / to make it a proper url\n",
      "\n",
      "for record in records:\n",
      "    m = re.findall(regex,str(record))\n",
      "    if m:\n",
      "        urls.append((str(m[0])).replace(\"\\/\",\"/\"))\n",
      "   \n",
      "print urls[0]\n",
      "print \"Number of urls (with repetition): \" + str(len(urls))"
     ],
     "language": "python",
     "metadata": {},
     "outputs": [
      {
       "output_type": "stream",
       "stream": "stdout",
       "text": [
        "http://inws.wrh.noaa.gov/weather/alertinfo/10389890\n",
        "Number of urls (with repetition): 87336\n"
       ]
      }
     ],
     "prompt_number": 62
    },
    {
     "cell_type": "markdown",
     "metadata": {},
     "source": [
      "Create a dictionary to hold each url and the number of times it appeared in the original list.  URLs will be used as an entry's key, and the number of times the URL appears will be used as the value."
     ]
    },
    {
     "cell_type": "code",
     "collapsed": false,
     "input": [
      "url_dict = {}\n",
      "\n",
      "for item in urls:\n",
      "    if item in url_dict:\n",
      "        url_dict[item] += 1\n",
      "    else:\n",
      "        url_dict[item] = 1\n",
      "        \n",
      "print url_dict.items()[0]\n",
      "print \"Number of unique URLs: \" + str(len(url_dict))"
     ],
     "language": "python",
     "metadata": {},
     "outputs": [
      {
       "output_type": "stream",
       "stream": "stdout",
       "text": [
        "('http://inws.wrh.noaa.gov/weather/alertinfo/10389786', 1)\n",
        "Number of unique URLs: 6662\n"
       ]
      }
     ],
     "prompt_number": 63
    },
    {
     "cell_type": "markdown",
     "metadata": {},
     "source": [
      "Sort by frequency (in descending order), using <code>sorted</code> which returns a sorted list of tuples.  I'm using the <code>operator</code> module in order to be able to easily sort by the value of the dictionary entry.<br/>\n",
      "Afterwards, print the tuple for the most frequent url in order to check accuracy."
     ]
    },
    {
     "cell_type": "code",
     "collapsed": false,
     "input": [
      "import operator\n",
      "sorted_unique_urls = sorted(url_dict.items(),key=operator.itemgetter(1),reverse=True)\n",
      "\n",
      "print sorted_unique_urls[0]"
     ],
     "language": "python",
     "metadata": {},
     "outputs": [
      {
       "output_type": "stream",
       "stream": "stdout",
       "text": [
        "('http://pld.dpi.wi.gov/files/pld/images/LinkWI.png', 27263)\n"
       ]
      }
     ],
     "prompt_number": 64
    },
    {
     "cell_type": "markdown",
     "metadata": {},
     "source": [
      "Now grab the 50 most frequent urls and put them in a new list in order to search twitter for these urls.<br/>\n",
      "Afterwards, print the top entry from this list in order to ensure it contains the most frequent URL from previous steps."
     ]
    },
    {
     "cell_type": "code",
     "collapsed": false,
     "input": [
      "frequent_urls = []\n",
      "\n",
      "for i in range (0,50):\n",
      "    frequent_urls.append(str(sorted_unique_urls[i][0]))\n",
      "    \n",
      "print frequent_urls[0]"
     ],
     "language": "python",
     "metadata": {},
     "outputs": [
      {
       "output_type": "stream",
       "stream": "stdout",
       "text": [
        "http://pld.dpi.wi.gov/files/pld/images/LinkWI.png\n"
       ]
      }
     ],
     "prompt_number": 65
    },
    {
     "cell_type": "markdown",
     "metadata": {},
     "source": [
      "Now, open a connection to twitter and authorize it.<br/>\n",
      "In order to interact with twitter, I'm using the python wrapper for the Twitter API by importing the <code>twitter</code> module.<br/>\n",
      "After connecting, print a message about the Twitter object (in order to indicate successful connection)."
     ]
    },
    {
     "cell_type": "code",
     "collapsed": false,
     "input": [
      "import twitter\n",
      "\n",
      "CONSUMER_KEY = 'ydFa8cn6FIKKxJZsYsZ1Tsrn8'\n",
      "CONSUMER_SECRET = 'Bgs546mW1fUAdCTsSVZr2X2B36PXs9Ba4DG5E97NEMHZsBYakG'\n",
      "OAUTH_TOKEN = '2982700401-sHM9JfvR2FDpKWZ39kStsVvfHRo9WYAOkG3IdWL'\n",
      "OAUTH_TOKEN_SECRET = 'ytZVKWc5r9xq8dx2AmPJkb3gEC1rm8Znnp2YneNIh8Qkm'\n",
      "\n",
      "auth = twitter.oauth.OAuth(OAUTH_TOKEN, OAUTH_TOKEN_SECRET, CONSUMER_KEY, CONSUMER_SECRET)\n",
      "\n",
      "twitter_api = twitter.Twitter(auth=auth)\n",
      "\n",
      "print twitter_api"
     ],
     "language": "python",
     "metadata": {},
     "outputs": [
      {
       "output_type": "stream",
       "stream": "stdout",
       "text": [
        "<twitter.api.Twitter object at 0x000000000A5AB1D0>\n"
       ]
      }
     ],
     "prompt_number": 66
    },
    {
     "cell_type": "markdown",
     "metadata": {},
     "source": [
      "Next search twitter for the most frequent urls that were found. Matching tweets' information will be stored in the list <code>statuses</code>.<br/>\n",
      "Here I'm importing <code>unquote</code> from <code>urllib</code> in order to ensure the URLs stay readable, and I'm importing <code>json</code> in order to print an example in a readable format."
     ]
    },
    {
     "cell_type": "code",
     "collapsed": false,
     "input": [
      "from urllib import unquote\n",
      "import json # pip install simplejson\n",
      "\n",
      "count = 100     #number of max results to return for each search\n",
      "\n",
      "query_count = 0\n",
      "max_queries = 180 #using this to avoid hitting the max query limit\n",
      "\n",
      "statuses = []\n",
      "\n",
      "for q in frequent_urls:\n",
      "    search_results = twitter_api.search.tweets(q=q,count=count)\n",
      "    query_count+=1\n",
      "    statuses += search_results['statuses']\n",
      "    \n",
      "    if query_count >= max_queries:\n",
      "        break\n",
      "    \n",
      "    for _ in range(5):\n",
      "        print \"Length of statuses\", len(statuses)\n",
      "        try:\n",
      "            next_results = search_results['search_metadata']['next_results']\n",
      "            query_count+=1\n",
      "        except KeyError, e: # No more results when next_results doesn't exist\n",
      "            break\n",
      "\n",
      "        kwargs = dict([ kv.split('=') for kv in unquote(next_results[1:]).split(\"&\") ])\n",
      "\n",
      "        search_results = twitter_api.search.tweets(**kwargs)\n",
      "        statuses += search_results['statuses']\n",
      "        if query_count >= max_queries:\n",
      "            break\n",
      "            \n",
      "        if _ == 5 and next_results:\n",
      "            print \"Limit reached for current url:\", q\n",
      "    \n",
      "if not statuses:\n",
      "    print \"No matches found\"\n",
      "else:\n",
      "    print \"Number of matches found:\", len(statuses)\n",
      "    print json.dumps(statuses[0],indent=1)"
     ],
     "language": "python",
     "metadata": {},
     "outputs": [
      {
       "output_type": "stream",
       "stream": "stdout",
       "text": [
        "Length of statuses 3\n",
        "Length of statuses"
       ]
      },
      {
       "output_type": "stream",
       "stream": "stdout",
       "text": [
        " 6\n",
        "Length of statuses"
       ]
      },
      {
       "output_type": "stream",
       "stream": "stdout",
       "text": [
        " 7\n",
        "Length of statuses"
       ]
      },
      {
       "output_type": "stream",
       "stream": "stdout",
       "text": [
        " 7\n",
        "Length of statuses"
       ]
      },
      {
       "output_type": "stream",
       "stream": "stdout",
       "text": [
        " 14\n",
        "Length of statuses"
       ]
      },
      {
       "output_type": "stream",
       "stream": "stdout",
       "text": [
        " 15\n",
        "Length of statuses"
       ]
      },
      {
       "output_type": "stream",
       "stream": "stdout",
       "text": [
        " 24\n",
        "Length of statuses"
       ]
      },
      {
       "output_type": "stream",
       "stream": "stdout",
       "text": [
        " 24\n",
        "Length of statuses"
       ]
      },
      {
       "output_type": "stream",
       "stream": "stdout",
       "text": [
        " 27\n",
        "Length of statuses"
       ]
      },
      {
       "output_type": "stream",
       "stream": "stdout",
       "text": [
        " 27\n",
        "Length of statuses"
       ]
      },
      {
       "output_type": "stream",
       "stream": "stdout",
       "text": [
        " 27\n",
        "Length of statuses"
       ]
      },
      {
       "output_type": "stream",
       "stream": "stdout",
       "text": [
        " 27\n",
        "Length of statuses"
       ]
      },
      {
       "output_type": "stream",
       "stream": "stdout",
       "text": [
        " 27\n",
        "Length of statuses"
       ]
      },
      {
       "output_type": "stream",
       "stream": "stdout",
       "text": [
        " 27\n",
        "Length of statuses"
       ]
      },
      {
       "output_type": "stream",
       "stream": "stdout",
       "text": [
        " 37\n",
        "Length of statuses"
       ]
      },
      {
       "output_type": "stream",
       "stream": "stdout",
       "text": [
        " 37\n",
        "Length of statuses"
       ]
      },
      {
       "output_type": "stream",
       "stream": "stdout",
       "text": [
        " 130\n",
        "Length of statuses"
       ]
      },
      {
       "output_type": "stream",
       "stream": "stdout",
       "text": [
        " 130\n",
        "Length of statuses"
       ]
      },
      {
       "output_type": "stream",
       "stream": "stdout",
       "text": [
        " 130\n",
        "Length of statuses"
       ]
      },
      {
       "output_type": "stream",
       "stream": "stdout",
       "text": [
        " 130\n",
        "Length of statuses"
       ]
      },
      {
       "output_type": "stream",
       "stream": "stdout",
       "text": [
        " 130\n",
        "Length of statuses"
       ]
      },
      {
       "output_type": "stream",
       "stream": "stdout",
       "text": [
        " 130\n",
        "Length of statuses"
       ]
      },
      {
       "output_type": "stream",
       "stream": "stdout",
       "text": [
        " 130\n",
        "Length of statuses"
       ]
      },
      {
       "output_type": "stream",
       "stream": "stdout",
       "text": [
        " 131\n",
        "Length of statuses"
       ]
      },
      {
       "output_type": "stream",
       "stream": "stdout",
       "text": [
        " 131\n",
        "Length of statuses"
       ]
      },
      {
       "output_type": "stream",
       "stream": "stdout",
       "text": [
        " 132\n",
        "Length of statuses"
       ]
      },
      {
       "output_type": "stream",
       "stream": "stdout",
       "text": [
        " 132\n",
        "Length of statuses"
       ]
      },
      {
       "output_type": "stream",
       "stream": "stdout",
       "text": [
        " 132\n",
        "Length of statuses"
       ]
      },
      {
       "output_type": "stream",
       "stream": "stdout",
       "text": [
        " 135\n",
        "Length of statuses"
       ]
      },
      {
       "output_type": "stream",
       "stream": "stdout",
       "text": [
        " 135\n",
        "Length of statuses"
       ]
      },
      {
       "output_type": "stream",
       "stream": "stdout",
       "text": [
        " 135\n",
        "Length of statuses"
       ]
      },
      {
       "output_type": "stream",
       "stream": "stdout",
       "text": [
        " 135\n",
        "Length of statuses"
       ]
      },
      {
       "output_type": "stream",
       "stream": "stdout",
       "text": [
        " 135\n",
        "Length of statuses"
       ]
      },
      {
       "output_type": "stream",
       "stream": "stdout",
       "text": [
        " 135\n",
        "Length of statuses"
       ]
      },
      {
       "output_type": "stream",
       "stream": "stdout",
       "text": [
        " 135\n",
        "Length of statuses"
       ]
      },
      {
       "output_type": "stream",
       "stream": "stdout",
       "text": [
        " 135\n",
        "Length of statuses"
       ]
      },
      {
       "output_type": "stream",
       "stream": "stdout",
       "text": [
        " 135\n",
        "Length of statuses"
       ]
      },
      {
       "output_type": "stream",
       "stream": "stdout",
       "text": [
        " 135\n",
        "Length of statuses"
       ]
      },
      {
       "output_type": "stream",
       "stream": "stdout",
       "text": [
        " 135\n",
        "Length of statuses"
       ]
      },
      {
       "output_type": "stream",
       "stream": "stdout",
       "text": [
        " 135\n",
        "Length of statuses"
       ]
      },
      {
       "output_type": "stream",
       "stream": "stdout",
       "text": [
        " 135\n",
        "Length of statuses"
       ]
      },
      {
       "output_type": "stream",
       "stream": "stdout",
       "text": [
        " 135\n",
        "Length of statuses"
       ]
      },
      {
       "output_type": "stream",
       "stream": "stdout",
       "text": [
        " 135\n",
        "Length of statuses"
       ]
      },
      {
       "output_type": "stream",
       "stream": "stdout",
       "text": [
        " 135\n",
        "Length of statuses"
       ]
      },
      {
       "output_type": "stream",
       "stream": "stdout",
       "text": [
        " 135\n",
        "Length of statuses"
       ]
      },
      {
       "output_type": "stream",
       "stream": "stdout",
       "text": [
        " 135\n",
        "Length of statuses"
       ]
      },
      {
       "output_type": "stream",
       "stream": "stdout",
       "text": [
        " 135\n",
        "Length of statuses"
       ]
      },
      {
       "output_type": "stream",
       "stream": "stdout",
       "text": [
        " 135\n",
        "Length of statuses"
       ]
      },
      {
       "output_type": "stream",
       "stream": "stdout",
       "text": [
        " 135\n",
        "Length of statuses"
       ]
      },
      {
       "output_type": "stream",
       "stream": "stdout",
       "text": [
        " 135\n",
        "Number of matches found: 135\n",
        "{\n",
        " \"contributors\": null, \n",
        " \"truncated\": false, \n",
        " \"text\": \"Testing again http://t.co/oECp4A7kq6\", \n",
        " \"in_reply_to_status_id\": null, \n",
        " \"id\": 578605837356294145, \n",
        " \"favorite_count\": 0, \n",
        " \"source\": \"<a href=\\\"http://twitter.com/download/iphone\\\" rel=\\\"nofollow\\\">Twitter for iPhone</a>\", \n",
        " \"retweeted\": false, \n",
        " \"coordinates\": {\n",
        "  \"type\": \"Point\", \n",
        "  \"coordinates\": [\n",
        "   -80.0341712, \n",
        "   26.80634767\n",
        "  ]\n",
        " }, \n",
        " \"entities\": {\n",
        "  \"symbols\": [], \n",
        "  \"user_mentions\": [], \n",
        "  \"hashtags\": [], \n",
        "  \"urls\": [\n",
        "   {\n",
        "    \"url\": \"http://t.co/oECp4A7kq6\", \n",
        "    \"indices\": [\n",
        "     14, \n",
        "     36\n",
        "    ], \n",
        "    \"expanded_url\": \"http://pld.dpi.wi.gov/files/pld/images/LinkWI.png\", \n",
        "    \"display_url\": \"pld.dpi.wi.gov/files/pld/imag\\u2026\"\n",
        "   }\n",
        "  ]\n",
        " }, \n",
        " \"in_reply_to_screen_name\": null, \n",
        " \"in_reply_to_user_id\": null, \n",
        " \"retweet_count\": 0, \n",
        " \"id_str\": \"578605837356294145\", \n",
        " \"favorited\": false, \n",
        " \"user\": {\n",
        "  \"follow_request_sent\": false, \n",
        "  \"profile_use_background_image\": true, \n",
        "  \"profile_text_color\": \"333333\", \n",
        "  \"default_profile_image\": true, \n",
        "  \"id\": 2982700401, \n",
        "  \"profile_background_image_url_https\": \"https://abs.twimg.com/images/themes/theme1/bg.png\", \n",
        "  \"verified\": false, \n",
        "  \"profile_location\": null, \n",
        "  \"profile_image_url_https\": \"https://abs.twimg.com/sticky/default_profile_images/default_profile_2_normal.png\", \n",
        "  \"profile_sidebar_fill_color\": \"DDEEF6\", \n",
        "  \"entities\": {\n",
        "   \"description\": {\n",
        "    \"urls\": []\n",
        "   }\n",
        "  }, \n",
        "  \"followers_count\": 2, \n",
        "  \"profile_sidebar_border_color\": \"C0DEED\", \n",
        "  \"id_str\": \"2982700401\", \n",
        "  \"profile_background_color\": \"C0DEED\", \n",
        "  \"listed_count\": 0, \n",
        "  \"is_translation_enabled\": false, \n",
        "  \"utc_offset\": -14400, \n",
        "  \"statuses_count\": 3, \n",
        "  \"description\": \"\", \n",
        "  \"friends_count\": 5, \n",
        "  \"location\": \"\", \n",
        "  \"profile_link_color\": \"0084B4\", \n",
        "  \"profile_image_url\": \"http://abs.twimg.com/sticky/default_profile_images/default_profile_2_normal.png\", \n",
        "  \"following\": false, \n",
        "  \"geo_enabled\": true, \n",
        "  \"profile_background_image_url\": \"http://abs.twimg.com/images/themes/theme1/bg.png\", \n",
        "  \"name\": \"Debra Lewis\", \n",
        "  \"lang\": \"en\", \n",
        "  \"profile_background_tile\": false, \n",
        "  \"favourites_count\": 0, \n",
        "  \"screen_name\": \"debralewis08\", \n",
        "  \"notifications\": false, \n",
        "  \"url\": null, \n",
        "  \"created_at\": \"Sat Jan 17 16:52:09 +0000 2015\", \n",
        "  \"contributors_enabled\": false, \n",
        "  \"time_zone\": \"Eastern Time (US & Canada)\", \n",
        "  \"protected\": false, \n",
        "  \"default_profile\": true, \n",
        "  \"is_translator\": false\n",
        " }, \n",
        " \"geo\": {\n",
        "  \"type\": \"Point\", \n",
        "  \"coordinates\": [\n",
        "   26.80634767, \n",
        "   -80.0341712\n",
        "  ]\n",
        " }, \n",
        " \"in_reply_to_user_id_str\": null, \n",
        " \"possibly_sensitive\": false, \n",
        " \"lang\": \"en\", \n",
        " \"created_at\": \"Thu Mar 19 17:15:56 +0000 2015\", \n",
        " \"in_reply_to_status_id_str\": null, \n",
        " \"place\": {\n",
        "  \"country_code\": \"US\", \n",
        "  \"url\": \"https://api.twitter.com/1.1/geo/id/70b15cd26c69f608.json\", \n",
        "  \"country\": \"United States\", \n",
        "  \"place_type\": \"city\", \n",
        "  \"bounding_box\": {\n",
        "   \"type\": \"Polygon\", \n",
        "   \"coordinates\": [\n",
        "    [\n",
        "     [\n",
        "      -80.177251, \n",
        "      26.7854133\n",
        "     ], \n",
        "     [\n",
        "      -80.065807, \n",
        "      26.7854133\n",
        "     ], \n",
        "     [\n",
        "      -80.065807, \n",
        "      26.8962\n",
        "     ], \n",
        "     [\n",
        "      -80.177251, \n",
        "      26.8962\n",
        "     ]\n",
        "    ]\n",
        "   ]\n",
        "  }, \n",
        "  \"contained_within\": [], \n",
        "  \"full_name\": \"Palm Beach Gardens, FL\", \n",
        "  \"attributes\": {}, \n",
        "  \"id\": \"70b15cd26c69f608\", \n",
        "  \"name\": \"Palm Beach Gardens\"\n",
        " }, \n",
        " \"metadata\": {\n",
        "  \"iso_language_code\": \"en\", \n",
        "  \"result_type\": \"recent\"\n",
        " }\n",
        "}\n"
       ]
      }
     ],
     "prompt_number": 67
    },
    {
     "cell_type": "markdown",
     "metadata": {},
     "source": [
      "Now extract relevant information from the matching texts (in <code>statuses</code>) in order to present it in a tabular format.<br/>\n",
      "The information we want is the user name of the person who tweeted, the url that was tweeted, the text of the tweet, and the location of the tweet.<br/>\n",
      "I'm importing <code>namedtuple</code> from the <code>collections</code> module in order to create my own tuple type so that it's easier to keep track of which field is being accessed."
     ]
    },
    {
     "cell_type": "code",
     "collapsed": false,
     "input": [
      "from collections import namedtuple\n",
      "\n",
      "TweetInfo = namedtuple('TweetInfo','user, url, text, location')\n",
      "Point = namedtuple('Point','lat,lon')\n",
      "\n",
      "loc_regex = re.compile('\\'coordinates\\': \\[(-?\\d*?\\.?\\d*?), (-?\\d*?\\.?\\d*?)\\]')\n",
      "\n",
      "matching_tweets = []\n",
      "\n",
      "for status in statuses:\n",
      "    text = status['text']\n",
      "    user = status['user']['screen_name']\n",
      "    location = status['coordinates']\n",
      "    m = loc_regex.search(str(location))\n",
      "    if m:\n",
      "        #Note that the lat and lon are swapped below, because twitter's coordinates field stores it in the order [lon,lat]\n",
      "        #but the human-readable format is [lat,lon]\n",
      "        pt = Point(lat=float(m.group(2)),lon=float(m.group(1)))\n",
      "    else:\n",
      "        pt = Point(0,0)\n",
      "    for geturl in status['entities']['urls']:\n",
      "        url = geturl['expanded_url']\n",
      "    if text and user and geturl and location and pt.lat!=0 and pt.lon !=0:  #if all 4 exist, create a new match and add it to the list of matches\n",
      "        match = TweetInfo(user=user,url=url,text=text,location=pt)\n",
      "        matching_tweets.append(match)\n",
      "\n",
      "print matching_tweets[0]\n",
      "print \"number of matches with all info:\", len(matching_tweets)"
     ],
     "language": "python",
     "metadata": {},
     "outputs": [
      {
       "output_type": "stream",
       "stream": "stdout",
       "text": [
        "TweetInfo(user=u'debralewis08', url=u'http://pld.dpi.wi.gov/files/pld/images/LinkWI.png', text=u'Testing again http://t.co/oECp4A7kq6', location=Point(lat=26.80634767, lon=-80.0341712))\n",
        "number of matches with all info: 36\n"
       ]
      }
     ],
     "prompt_number": 68
    },
    {
     "cell_type": "markdown",
     "metadata": {},
     "source": [
      "###Now, set up a pretty table to hold the information<Br/>\n",
      "This will only print the first 25 matching tweets, not all of the matches found.<br/>\n",
      "In order to print this in a more readable format, I will be importing the <code>PrettyTable</code> module from <code>prettytable</code><br/>\n",
      "Note: This will only look good if the browser window is long enough to accomodate all fields in the table."
     ]
    },
    {
     "cell_type": "code",
     "collapsed": false,
     "input": [
      "from prettytable import PrettyTable\n",
      "\n",
      "pt = PrettyTable(field_names=['Username','URL','Tweet text', 'Location (lat, lon)'])\n",
      "pt.max_width['Tweet text'] = 50\n",
      "pt.align = 'l'\n",
      "[ pt.add_row([row.user, row.url, row.text, \"(\" + '%.2f' % row.location.lat + \",\" + '%.2f' % row.location.lon + \")\"]) for row in matching_tweets[:50] ]\n",
      "print pt"
     ],
     "language": "python",
     "metadata": {},
     "outputs": [
      {
       "output_type": "stream",
       "stream": "stdout",
       "text": [
        "+--------------+---------------------------------------------------+--------------------------------------+---------------------+\n",
        "| Username     | URL                                               | Tweet text                           | Location (lat, lon) |\n",
        "+--------------+---------------------------------------------------+--------------------------------------+---------------------+\n",
        "| debralewis08 | http://pld.dpi.wi.gov/files/pld/images/LinkWI.png | Testing again http://t.co/oECp4A7kq6 | (26.81,-80.03)      |\n",
        "| m2aces       | http://1.usa.gov/14bmsHn                          | http://t.co/gQapk3d5MQ               | (-74.01,40.71)      |\n",
        "| m2aces       | http://1.usa.gov/14bmsHn                          | http://t.co/gQapk2VuVi               | (-88.21,41.97)      |\n",
        "| m2aces       | http://1.usa.gov/14bmsHn                          | http://t.co/gQapk2VuVi               | (2.33,48.87)        |\n",
        "| m2aces       | http://1.usa.gov/15vMQjX                          | http://t.co/UYJK5QNAuK               | (-83.07,40.10)      |\n",
        "| m2aces       | http://1.usa.gov/107xZnW                          | http://t.co/V9S5lxHMX2               | (-77.04,38.90)      |\n",
        "| m2aces       | http://1.usa.gov/107xZnW                          | http://t.co/V9S5lxZnOA               | (-84.46,39.16)      |\n",
        "| m2aces       | http://1.usa.gov/107xZnW                          | http://t.co/V9S5lxHMX2               | (-75.05,40.09)      |\n",
        "| m2aces       | http://1.usa.gov/107xZnW                          | http://t.co/V9S5lxHMX2               | (-75.05,40.09)      |\n",
        "| m2aces       | http://1.usa.gov/107xZnW                          | http://t.co/V9S5lxHMX2               | (-76.26,36.95)      |\n",
        "| m2aces       | http://1.usa.gov/ZPictq                           | http://t.co/5PyOkhFix4               | (-73.96,41.39)      |\n",
        "| m2aces       | http://1.usa.gov/16Ewvc4                          | http://t.co/BPjeI964uy               | (2.33,48.87)        |\n",
        "| m2aces       | http://1.usa.gov/16Ewvc4                          | http://t.co/BPjeI964uy               | (-76.87,39.14)      |\n",
        "| m2aces       | http://1.usa.gov/14wjbCv                          | http://t.co/CKZHHMrC9I               | (-3.40,55.98)       |\n",
        "| m2aces       | http://1.usa.gov/16Ewvc4                          | http://t.co/BPjeI8OtD0               | (-80.64,35.18)      |\n",
        "| m2aces       | http://1.usa.gov/14wjbCv                          | http://t.co/CKZHHMrC9I               | (4.92,52.35)        |\n",
        "| m2aces       | http://1.usa.gov/16Ewvc4                          | http://t.co/BPjeI964uy               | (-75.16,39.95)      |\n",
        "| medinaruizk  | http://1.usa.gov/16Ewvc4                          | http://t.co/TzU8Oy0r8e               | (43.05,-87.90)      |\n",
        "| m2aces       | http://1.usa.gov/15UzM7I                          | http://t.co/DG6YtJ8JuH               | (-74.01,40.71)      |\n",
        "| m2aces       | http://1.usa.gov/15UzM7I                          | http://t.co/DG6YtJ8JuH               | (4.80,51.57)        |\n",
        "| m2aces       | http://1.usa.gov/112lLfd                          | http://t.co/BoHrZah5a5               | (-82.18,42.40)      |\n",
        "| m2aces       | http://1.usa.gov/10WMBv9                          | http://t.co/jguDd9eT4d               | (-66.06,18.42)      |\n",
        "| m2aces       | http://1.usa.gov/10WMBv9                          | http://t.co/jguDd9eT4d               | (-71.09,42.58)      |\n",
        "| m2aces       | http://1.usa.gov/10WMBv9                          | http://t.co/jguDd9wtVL               | (-65.99,18.34)      |\n",
        "| m2aces       | http://1.usa.gov/10WMBv9                          | http://t.co/jguDd9eT4d               | (-75.16,39.95)      |\n",
        "| m2aces       | http://1.usa.gov/10WMBv9                          | http://t.co/jguDd9wtVL               | (-66.06,18.42)      |\n",
        "| m2aces       | http://1.usa.gov/10WMBv9                          | http://t.co/jguDd9eT4d               | (-75.23,39.92)      |\n",
        "| m2aces       | http://1.usa.gov/10WMBv9                          | http://t.co/jguDd9wtVL               | (-65.90,18.07)      |\n",
        "| m2aces       | http://1.usa.gov/10WMBv9                          | http://t.co/jguDd9eT4d               | (-66.06,18.42)      |\n",
        "| m2aces       | http://1.usa.gov/10WMBv9                          | http://t.co/jguDd9eT4d               | (-66.06,18.23)      |\n",
        "| m2aces       | http://1.usa.gov/10WMBv9                          | http://t.co/jguDd9eT4d               | (-81.41,41.64)      |\n",
        "| m2aces       | http://1.usa.gov/148yLVx                          | http://t.co/X02L1RIAL2               | (-73.54,41.05)      |\n",
        "| m2aces       | http://1.usa.gov/18PR8RW                          | http://t.co/wLO5px2VQX               | (-83.48,42.48)      |\n",
        "| m2aces       | http://1.usa.gov/109ar5E                          | http://t.co/5bmrDm66rY               | (-78.08,35.37)      |\n",
        "| m2aces       | http://1.usa.gov/109ar5E                          | http://t.co/5bmrDm66rY               | (-78.08,35.37)      |\n",
        "| m2aces       | http://1.usa.gov/109ar5E                          | http://t.co/5bmrDm66rY               | (-81.25,32.10)      |\n",
        "+--------------+---------------------------------------------------+--------------------------------------+---------------------+\n"
       ]
      }
     ],
     "prompt_number": 69
    },
    {
     "cell_type": "markdown",
     "metadata": {},
     "source": [
      "<b>Turning that information into a map</b><br/>\n",
      "Next we want to plot this coordinates on a map.<br/>\n",
      "Create a new maps object <code>mymap</code> using the pygmaps module.  Center it at 41.850033,-87.6500523 (over Chicago) and set it to a default zoom of 3 to give a decent window.</br/>\n",
      "Also create an array to hold the hex values for several colors (so that the different markers are distinguishible).<br/>\n",
      "Here, I'm importing <code>pygmaps</code>, a python wrapper for a google maps API in order to create the map and markers."
     ]
    },
    {
     "cell_type": "code",
     "collapsed": false,
     "input": [
      "import pygmaps #pip install pygmaps\n",
      "mymap = pygmaps.maps(41.850033, -87.6500523,3)\n",
      "\n",
      "colors = ['#008000',\n",
      "          '#FFFF00',\n",
      "          '#FF0000',\n",
      "          '#0000FF']"
     ],
     "language": "python",
     "metadata": {},
     "outputs": [],
     "prompt_number": 70
    },
    {
     "cell_type": "markdown",
     "metadata": {},
     "source": [
      "Add the coordinates of each point to the map.<br/>\n",
      "I'm randomizing the color for each point so that they are easier to distinguish if there's a large cluster of points close together.<br/>\n",
      "In order to have that randomization, I'm importing <code>random</code>."
     ]
    },
    {
     "cell_type": "code",
     "collapsed": false,
     "input": [
      "import random\n",
      "\n",
      "for tweet in matching_tweets:\n",
      "    pt = tweet.location\n",
      "    mymap.addpoint(pt.lat,pt.lon,random.choice(colors))"
     ],
     "language": "python",
     "metadata": {},
     "outputs": [],
     "prompt_number": 71
    },
    {
     "cell_type": "markdown",
     "metadata": {},
     "source": [
      "Next, create the map (resulting html map is stored in the resources directory)."
     ]
    },
    {
     "cell_type": "code",
     "collapsed": false,
     "input": [
      "mymap.draw('resources\\mymap.html')"
     ],
     "language": "python",
     "metadata": {},
     "outputs": [],
     "prompt_number": 72
    },
    {
     "cell_type": "markdown",
     "metadata": {},
     "source": [
      "Finally, load the newly created map into a frame in this notebook.<br/>\n",
      "I'm importing <code>HTML</code> from <code>IPython.display</code> in order to use HTML within this notebook to display the map."
     ]
    },
    {
     "cell_type": "code",
     "collapsed": false,
     "input": [
      "from IPython.display import HTML\n",
      "HTML('<iframe src=\"resources//mymap.html\" height=500 width=750></iframe>')"
     ],
     "language": "python",
     "metadata": {},
     "outputs": [
      {
       "html": [
        "<iframe src=\"resources//mymap.html\" height=500 width=750></iframe>"
       ],
       "metadata": {},
       "output_type": "pyout",
       "prompt_number": 73,
       "text": [
        "<IPython.core.display.HTML at 0xa5c1978>"
       ]
      }
     ],
     "prompt_number": 73
    }
   ],
   "metadata": {}
  }
 ]
}